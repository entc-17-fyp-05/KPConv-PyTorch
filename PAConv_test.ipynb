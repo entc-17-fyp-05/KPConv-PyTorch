{
 "cells": [
  {
   "cell_type": "code",
   "execution_count": 1,
   "id": "f06c4989-0e9e-4b67-b62f-f22d0fe20b95",
   "metadata": {},
   "outputs": [],
   "source": [
    "from util.util import cal_loss, IOStream, load_cfg_from_cfg_file, merge_cfg_from_list\n",
    "# from model.PointNet_PAConv import PAConv\n",
    "from util.data_util import *\n",
    "\n",
    "import torch\n",
    "import json\n",
    "import matplotlib.pyplot as plt\n",
    "import numpy as np\n",
    "\n",
    "import plotly.graph_objects as go\n",
    "import plotly.express as px"
   ]
  },
  {
   "cell_type": "code",
   "execution_count": 2,
   "id": "97ed1523-581b-4a48-9564-b24a7e3e4a6e",
   "metadata": {},
   "outputs": [],
   "source": [
    "cfg_file = \"config/pointnet_paconv_train.yaml\""
   ]
  },
  {
   "cell_type": "code",
   "execution_count": 3,
   "id": "70b712bf-6b29-454e-8909-3a8ce28b01a9",
   "metadata": {},
   "outputs": [],
   "source": [
    "cfg = load_cfg_from_cfg_file(cfg_file)"
   ]
  },
  {
   "cell_type": "code",
   "execution_count": 40,
   "id": "f0fd80c5-726c-4bcd-bec7-3c4016914682",
   "metadata": {},
   "outputs": [],
   "source": [
    "model = PAConv(cfg).cuda()"
   ]
  },
  {
   "cell_type": "code",
   "execution_count": 35,
   "id": "f73fc1a1-258d-4b67-a49f-07b943bed0b4",
   "metadata": {},
   "outputs": [],
   "source": [
    "inp = torch.rand(1, 3, 2048).cuda()"
   ]
  },
  {
   "cell_type": "code",
   "execution_count": 4,
   "id": "1792edc1-8a2b-4c25-a533-2a726456f6f3",
   "metadata": {},
   "outputs": [],
   "source": [
    "with open('data/modelnet40_ply_hdf5_2048/ply_data_train_0_id2file.json', 'r') as f:\n",
    "    data = json.load(f)"
   ]
  },
  {
   "cell_type": "code",
   "execution_count": 5,
   "id": "77ff007d-06fc-4483-b60a-f6acb95c59bc",
   "metadata": {},
   "outputs": [],
   "source": [
    "all_data, all_label = load_data('train')"
   ]
  },
  {
   "cell_type": "code",
   "execution_count": 6,
   "id": "d65df35f-bd62-4740-b3cf-a21037a42acc",
   "metadata": {},
   "outputs": [
    {
     "data": {
      "text/plain": [
       "(2048, 3)"
      ]
     },
     "execution_count": 6,
     "metadata": {},
     "output_type": "execute_result"
    }
   ],
   "source": [
    "all_data[1].shape"
   ]
  },
  {
   "cell_type": "code",
   "execution_count": null,
   "id": "01d47e28-7fe6-4c6c-81b5-ec9d65c2181a",
   "metadata": {},
   "outputs": [],
   "source": []
  }
 ],
 "metadata": {
  "kernelspec": {
   "display_name": "torch",
   "language": "python",
   "name": "torch"
  },
  "language_info": {
   "codemirror_mode": {
    "name": "ipython",
    "version": 3
   },
   "file_extension": ".py",
   "mimetype": "text/x-python",
   "name": "python",
   "nbconvert_exporter": "python",
   "pygments_lexer": "ipython3",
   "version": "3.9.5"
  }
 },
 "nbformat": 4,
 "nbformat_minor": 5
}
